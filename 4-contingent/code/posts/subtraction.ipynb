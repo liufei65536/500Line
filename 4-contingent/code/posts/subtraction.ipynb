{
 "metadata": {
  "date": "2014/03/10",
  "name": "The Terror of Subtraction",
  "signature": "sha256:b44a33049de49d343e974afaf61f205f529a2575e13a2aa178fc2b30464dbed8",
  "kernel_info": {
   "name": "python3",
   "language": "python",
   "display_name": "Python 3 (ipykernel)"
  }
 },
 "nbformat": 3,
 "nbformat_minor": 0,
 "worksheets": [
  {
   "cells": [
    {
     "cell_type": "markdown",
     "metadata": {},
     "source": [
      "The subtraction operation is disturbing because,\n",
      "even if carefully fed only positive integers,\n",
      "it can produce an answer outside of that domain:"
     ]
    },
    {
     "cell_type": "code",
     "collapsed": false,
     "input": [
      "6 - 7"
     ],
     "language": "python",
     "metadata": {},
     "outputs": [
      {
       "metadata": {},
       "output_type": "pyout",
       "prompt_number": 1,
       "text": [
        "-1"
       ]
      }
     ],
     "prompt_number": 1
    },
    {
     "metadata": {
      "ExecuteTime": {
       "end_time": "2024-05-24T03:04:45.062464Z",
       "start_time": "2024-05-24T03:04:45.055038Z"
      }
     },
     "cell_type": "code",
     "language": "Python",
     "input": "3-4",
     "outputs": [
      {
       "metadata": {},
       "output_type": "pyout",
       "prompt_number": 1,
       "text/plain": [
        "-1"
       ]
      }
     ],
     "prompt_number": 1
    },
    {
     "metadata": {},
     "cell_type": "code",
     "outputs": [],
     "language": "Python",
     "input": ""
    }
   ],
   "metadata": {}
  }
 ]
}
